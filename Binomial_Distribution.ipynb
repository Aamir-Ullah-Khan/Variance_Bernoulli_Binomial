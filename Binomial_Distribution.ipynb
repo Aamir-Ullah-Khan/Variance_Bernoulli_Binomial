{
  "nbformat": 4,
  "nbformat_minor": 0,
  "metadata": {
    "colab": {
      "name": "Binomial-Distribution",
      "version": "0.3.2",
      "provenance": [],
      "collapsed_sections": [],
      "include_colab_link": true
    },
    "kernelspec": {
      "name": "python3",
      "display_name": "Python 3"
    }
  },
  "cells": [
    {
      "cell_type": "markdown",
      "metadata": {
        "id": "view-in-github",
        "colab_type": "text"
      },
      "source": [
        "<a href=\"https://colab.research.google.com/github/Aamir-Ullah-Khan/Variance_Bernoulli_Binomial/blob/master/Binomial_Distribution.ipynb\" target=\"_parent\"><img src=\"https://colab.research.google.com/assets/colab-badge.svg\" alt=\"Open In Colab\"/></a>"
      ]
    },
    {
      "cell_type": "markdown",
      "metadata": {
        "id": "aJcTHu-hYMNe",
        "colab_type": "text"
      },
      "source": [
        ">>>>**Binomial Distribution**    \n",
        "\n",
        "A binomial distribution can be thought of as simply the probability of a SUCCESS or FAILURE outcome in an experiment or survey that is repeated multiple times. The binomial is a type of distribution that has two possible outcomes (the prefix “bi” means two, or twice). For example, a coin toss has only two possible outcomes: heads or tails and taking a test could have two possible outcomes: pass or fail.  \n",
        "**Criteria for Binomial Distribution**    \n",
        "\n",
        "\n",
        "1.   The number of observations or trials is fixed. \n",
        "2.   Each observation or trial is independent.\n",
        "3.   The probability of success (tails, heads, fail or pass) is exactly the same from one trial to another.  \n",
        "\n",
        "\n",
        "\n",
        "\n"
      ]
    },
    {
      "cell_type": "markdown",
      "metadata": {
        "id": "q_p32b3ZbGXd",
        "colab_type": "text"
      },
      "source": [
        "**Example Taken for Coding**    \n",
        "The manufacturer of a choclate company claims that there is a 90% chance that a packet of chocalate contains a golden plate ticket (Just like in movie name \"Willy Wanka and Choclate Factory\"). If one person purchases 20 packets of choclate, what is the probability that: \n",
        "\n",
        "\n",
        "1.   All the packets contain golden ticket\n",
        "2.   More than 18 bags contain golden ticket\n",
        "3.   Atleast two contain golden ticket.  \n",
        "**Solution**    \n",
        "**Case 1**: As we have probability = 0.9, and N=20, Therefore we can calculate probablity as: \n",
        "  **P[X=20]=  (20!/ 0! *20!) * (0.9 ^20) * (0.1 ^0) = 1* 0.1216 *1=0.1216**    \n",
        "  **Case2**  \n",
        "  More than 18 packets having golden plate tickets, we need to find : **P[X=19] +  P[X=20]**  \n",
        "  **P[X=19]=  (20!/ 1! *19!) * (0.9 ^19) * (0.1 ^1) = 20 * 0.1351 * 0.1=0.2702**        \n",
        "   **P[X=20] +P[X=19] = 0.1216 +0.2702 =0.3918**    \n",
        "    **Case3**   \n",
        "    This case can be approached in two ways.\n",
        "\n",
        "1.  We  calculate respective probabilities for X=[2,3,.......19,20] and P[X=2]+P[X=3].....P[X=19]+P[X=20]\n",
        "2.   We calculate respective probabilities for X=[0,1] and subtract them from 1 i.e. 1-P[X=0]-P[X=1]. \n",
        "We select second path as its more efficient and time saving. \n",
        "**P[X=0]=  (20!/ 0! *20!) * (0.9 ^0) * (0.1 ^20) = 1*1*1e-20=1 e -20**   \n",
        "**P[X=1]=  (20!/ 1! *19!) * (0.9 ^1) * (0.1 ^19) = 20*0.9*1e-19=1.8 e -18**   \n",
        "**P[X=0] +P[X=1] = 1.81e-18**    \n",
        "**1-P[X=0] +P[X=1]= 1**  \n",
        "\n",
        "\n",
        "   \n",
        "  \n",
        "\n"
      ]
    },
    {
      "cell_type": "code",
      "metadata": {
        "id": "AdFI-EeIy5YH",
        "colab_type": "code",
        "colab": {
          "base_uri": "https://localhost:8080/",
          "height": 289
        },
        "outputId": "4a245cec-b6f3-48b1-963a-b354a1c63077"
      },
      "source": [
        "import math\n",
        "print(\"*******Binomial Distribution*******\")\n",
        "\n",
        "print(\"Please input the probability of finding a golden ticket between 0 and 1\")\n",
        "prob = float(input())\n",
        "if prob < 0 and prob > 1:\n",
        "    print(\" Invalid Entry\")\n",
        "print(\"There are three cases: \\n 1) All (20) packets have golden tickets\")\n",
        "print(\" 2) More than 18 packets have golden tickets \\n 3) At-least 2 packets have golden tickets \")\n",
        "print(\" Press 1 for case 1 \\n Press 2 for case 2 \\n Press 3 for case 3\")\n",
        "choice = int(input())\n",
        "if choice == 1:\n",
        "    print(\"Welcome to case 1\")\n",
        "    #Relation is: (20C20) * p^20 * (1-p)^(20-20)\n",
        "    fact = math.factorial(20)\n",
        "    a = fact/fact\n",
        "    b = pow(prob, 20)\n",
        "    c = pow((1-prob), 0)\n",
        "    result = a * b * c\n",
        "    print(\"The probability that all 20 packets have golden tickets is =\", result)\n",
        "elif choice == 2:\n",
        "    print(\"Welcome to case 2\")\n",
        "    print(\" For this case, we will calculate values for X=19 and X=20\")\n",
        "    fact1 = math.factorial(20)\n",
        "    fact2 = math.factorial(19)\n",
        "    a = fact1 / fact1\n",
        "    b = pow(prob, 20)\n",
        "    c = pow(prob, 0)\n",
        "    result1 = a * b * c\n",
        "    p = fact1/fact2\n",
        "    q = pow(prob, 19)\n",
        "    r = pow((1-prob), 1)\n",
        "    result2 = p * q * r\n",
        "    print(\"The probability that more than 18 packets have golden tickets is =\", result1+result2)\n",
        "elif choice == 3:\n",
        "    print(\"Welcome to case 3\")\n",
        "    print(\"This case can be approached in two ways\")\n",
        "    print(\"1)We  calculate respective probabilities for X=[2,3,.......19,20] and P[X=2]+P[X=3].....P[X=19]-P[X=20]\")\n",
        "    print(\"2) We calculate respective probabilities for X=[0,1] and subtract them from 1 i.e. 1-P[X=0]-P[X=1\")\n",
        "    fact1 = math.factorial(20)\n",
        "    fact2 = math.factorial(19)\n",
        "    a = fact1 / fact1\n",
        "    b = pow(prob, 0)\n",
        "    c = pow((1-prob), 20)\n",
        "    result1 = a * b * c\n",
        "    p = fact1/fact2\n",
        "    q = pow(prob, 1)\n",
        "    r = pow((1-prob), 19)\n",
        "    result2 = p * q * r\n",
        "    print(\"The probability that at-least two packets have golden tickets is =\", 1-(result1+result2))\n",
        "else:\n",
        "    print(\"Wrong Entry\")\n",
        "\n",
        "input(\"Press any key to close the code\")\n"
      ],
      "execution_count": 4,
      "outputs": [
        {
          "output_type": "stream",
          "text": [
            "*******Binomial Distribution*******\n",
            "Please input the probability of finding a golden ticket between 0 and 1\n",
            "0.8\n",
            "There are three cases: \n",
            " 1) All (20) packets have golden tickets\n",
            " 2) More than 18 packets have golden tickets \n",
            " 3) At-least 2 packets have golden tickets \n",
            " Press 1 for case 1 \n",
            " Press 2 for case 2 \n",
            " Press 3 for case 3\n",
            "2\n",
            "Welcome to case 2\n",
            " For this case, we will calculate values for X=19 and X=20\n",
            "The probability that more than 18 packets have golden tickets is = 0.06917529027641088\n",
            "Press any key to close the code\n"
          ],
          "name": "stdout"
        },
        {
          "output_type": "execute_result",
          "data": {
            "text/plain": [
              "''"
            ]
          },
          "metadata": {
            "tags": []
          },
          "execution_count": 4
        }
      ]
    }
  ]
}