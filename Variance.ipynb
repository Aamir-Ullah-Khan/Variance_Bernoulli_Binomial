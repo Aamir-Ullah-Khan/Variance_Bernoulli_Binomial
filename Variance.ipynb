{
  "nbformat": 4,
  "nbformat_minor": 0,
  "metadata": {
    "colab": {
      "name": "Variance.ipynb",
      "version": "0.3.2",
      "provenance": [],
      "collapsed_sections": [],
      "include_colab_link": true
    },
    "kernelspec": {
      "name": "python3",
      "display_name": "Python 3"
    }
  },
  "cells": [
    {
      "cell_type": "markdown",
      "metadata": {
        "id": "view-in-github",
        "colab_type": "text"
      },
      "source": [
        "<a href=\"https://colab.research.google.com/github/Aamir-Ullah-Khan/Variance_Bernoulli_Binomial/blob/master/Variance.ipynb\" target=\"_parent\"><img src=\"https://colab.research.google.com/assets/colab-badge.svg\" alt=\"Open In Colab\"/></a>"
      ]
    },
    {
      "cell_type": "markdown",
      "metadata": {
        "id": "FT6XBUxlhbr3",
        "colab_type": "text"
      },
      "source": [
        ">>>>**Variance and Standard Deviation**   \n",
        "\n",
        "**Variance Definition**\n",
        "\n",
        "Variance (σ2) is a measurement of the spread between numbers in a data set. It measures how far each number in the set is from the mean and is calculated by taking the differences between each number in the set and the mean, squaring the differences (to make them positive) and dividing the sum of the squares by the number of values in the set.   \n",
        "**Standard Deviation Definition**  \n",
        "Standard deviation is a calculation of the dispersion or variation in a set of numbers. If the standard deviation is a small number, it means the data points are close to their average value. If the deviation is large, it means the numbers are spread out, further from the mean or average. \n",
        "\n",
        "![alt text](https://access-excel.tips/wp-content/uploads/2015/05/variability.gif)\n",
        "\n",
        "**Types of Variance and Standard Deviation**  \n",
        "There are two types: \n",
        "1.   Population Variance and Standard Deviation\n",
        "2.  Sample Variance and Standard Deviation  \n",
        "**Population Variance and Standard Deviationt**  \n",
        "This is performed for the whole data set or so called \"Population\".Population standard deviation looks at the square root of the variance of the set of numbers. It's used to determine a confidence interval for drawing conclusions (such as accepting or rejecting a hypothesis). \n",
        "**Sample Variance and Standard Deviation**\n",
        "This is performed on some specific groups (sample groups) of whole data, taking one by one or multiple at the same time, but not on whole data set.  In some cases, data from all the souces is not available and one has to deal with available data to conclude results.   \n",
        "\n",
        "**The basic difference in calculation is that for Population, we divide by \"N\"i.e total nbumber of elements but in case of Sample, we divide by \"n-1\"**  \n",
        "\n"
      ]
    },
    {
      "cell_type": "markdown",
      "metadata": {
        "id": "l9HjUpwfKK2O",
        "colab_type": "text"
      },
      "source": [
        "**Example taken for Code**  \n",
        "Suppose there is an old age house. We want to know age characteristics of people living in that house. For that reason, we calculate Variance and standard deviation .   \n",
        "**Solution**  \n",
        "We took number of people in old age house from user along with their respective ages. \n",
        "For example: Number of people in old age house: **Num=5.** \n",
        "Their respective ages : **55, 65, 60, 80, 85**\n",
        "Then we calculated Mean Age, Variance and Standard Deviation which comes out to be: \n",
        "**Mean=  69**     \n",
        "**Variance=   134**\n",
        "**Standard Deviation= 11.57583690**"
      ]
    },
    {
      "cell_type": "code",
      "metadata": {
        "id": "iJPjqEFFM0sp",
        "colab_type": "code",
        "outputId": "9bee6cb5-d937-456f-97ed-e0946fc447d1",
        "colab": {
          "base_uri": "https://localhost:8080/",
          "height": 323
        }
      },
      "source": [
        "import math\n",
        "from array import *\n",
        "print(\"*******Variance and Standard Deviation*******\")\n",
        "print(\"Please enter number of people in old age house\")\n",
        "num = int(input())\n",
        "\n",
        "alpha = array('i', []) # Original array to store elements\n",
        "beta = array('f', []) # Secondary array to store X-mean values\n",
        "\n",
        "for x in range(num):\n",
        "    print(\"enter the age of people in old age house\")\n",
        "    z = int(input())\n",
        "    alpha.append(z)\n",
        "summation = (sum(alpha))  # provides sum of all elements of array elements\n",
        "print(\"Sum of all elements (ages) is =\", summation)\n",
        "mean = float(summation/num)\n",
        "print(\"Mean of elements (mean age) is =\", mean)\n",
        "\n",
        "for x in alpha:\n",
        "    z = x-mean\n",
        "    z = z*z\n",
        "    beta.append(z)\n",
        "summationbeta = (sum(beta)) # provides sum of all elements of second array elements\n",
        "print(\"Sum of all elements (X-mean)^2 is =\", summationbeta)\n",
        "variance = float(summationbeta/num)\n",
        "print(\"Variance of elements (in age) is =\", variance)\n",
        "std = math.sqrt(variance)\n",
        "print(\"Standard Deviation in age is =\", std)\n",
        "\n",
        "\n",
        "\n",
        "\n",
        "\n"
      ],
      "execution_count": 0,
      "outputs": [
        {
          "output_type": "stream",
          "text": [
            "*******Variance and Standard Deviation*******\n",
            "Please enter number of people in old age house\n",
            "5\n",
            "enter the age of people in old age house\n",
            "55\n",
            "enter the age of people in old age house\n",
            "65\n",
            "enter the age of people in old age house\n",
            "60\n",
            "enter the age of people in old age house\n",
            "80\n",
            "enter the age of people in old age house\n",
            "85\n",
            "Sum of all elements (ages) is = 345\n",
            "Mean of elements (mean age) is = 69.0\n",
            "Sum of all elements (X-mean)^2 is = 670.0\n",
            "Variance of elements (in age) is = 134.0\n",
            "Standard Deviation in age is = 11.575836902790225\n"
          ],
          "name": "stdout"
        }
      ]
    }
  ]
}