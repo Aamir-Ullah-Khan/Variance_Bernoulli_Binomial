{
  "nbformat": 4,
  "nbformat_minor": 0,
  "metadata": {
    "colab": {
      "name": "Bernoulli_Distribution.ipynb",
      "version": "0.3.2",
      "provenance": [],
      "collapsed_sections": [],
      "include_colab_link": true
    },
    "kernelspec": {
      "name": "python3",
      "display_name": "Python 3"
    }
  },
  "cells": [
    {
      "cell_type": "markdown",
      "metadata": {
        "id": "view-in-github",
        "colab_type": "text"
      },
      "source": [
        "<a href=\"https://colab.research.google.com/github/Aamir-Ullah-Khan/Variance_Bernoulli_Binomial/blob/master/Bernoulli_Distribution.ipynb\" target=\"_parent\"><img src=\"https://colab.research.google.com/assets/colab-badge.svg\" alt=\"Open In Colab\"/></a>"
      ]
    },
    {
      "cell_type": "markdown",
      "metadata": {
        "id": "Doud-LVKSTpz",
        "colab_type": "text"
      },
      "source": [
        ">>>>**Bernoulli Distribution**    \n",
        "\n",
        "A Bernouilli distribution is a discrete probability distribution for a Bernouilli trial — a random experiment that has only two outcomes (usually called a “Success” or a “Failure”). For example, the probability of getting a heads (a “success”) while flipping a coin is 0.5. The probability of “failure” is 1 – P (1 minus the probability of success, which also equals 0.5 for a coin toss). It is a special case of the binomial distribution for n = 1. In other words, it is a binomial distribution with a single trial (e.g. a single coin toss).  \n",
        "**Bernoulli Trial**  \n",
        "A Bernoulli trial is one of the simplest experiments you can conduct in probability and statistics. It’s an experiment where you can have one of two possible outcomes. For example, “Yes” and “No” or “Heads” and “Tails.”  \n",
        "\n",
        "\n",
        "1.   **Coin tosses:** record how many coins land heads up and how many land tails up.\n",
        "2.   **Rolling Dice**: the probability of a roll of two die resulting in a double six.\n",
        "\n"
      ]
    },
    {
      "cell_type": "markdown",
      "metadata": {
        "id": "cKEIcq6rXzqn",
        "colab_type": "text"
      },
      "source": [
        "**Example taken for code**  \n",
        "An electric bulbs manufacturing factory has a probablility of 2% of defective bulbs. A customer purchases one bulb of mentioned factory. What is the probability that bulb is defective or not ?   \n",
        "**Solution**  \n",
        "Probablity for defective bulb is =**0.02 i.e. P**   \n",
        "Probability for a non-defective bulb is =**0.98 i.e. q**  \n",
        "Let P(X=1) denotes the probability of defective bulb and P(X=0) denotes the probability of non-defective bulb. Here we are intrested in finding out the defective bulb hence x=1.  \n",
        "**For non-defective bulb:**    \n",
        "**P(X=x) =P(X=0)=(p^x)*(1-p)^1-x  **    \n",
        "**P(non-defective)= (0.02)^0 * (1-0.02)^1-0 = 1* 0.98 =0.98**   \n",
        "**For defective bulb:**    \n",
        "**P(X=x) =P(X=1)=(p^x)*(1-p)^1-x  **      \n",
        "**P(non-defective)= (0.02)^1 * (1-0.02)^1-1 = 0.02*1 =0.02** \n",
        " \n",
        "\n"
      ]
    },
    {
      "cell_type": "code",
      "metadata": {
        "id": "MeNRjLjnlgnX",
        "colab_type": "code",
        "colab": {
          "base_uri": "https://localhost:8080/",
          "height": 136
        },
        "outputId": "e60f75c9-a694-492a-8f97-5e1c83ac1a40"
      },
      "source": [
        "import math\n",
        "print(\"*******Bernoulli Distribution*******\")\n",
        "print(\"Please enter respective probability of defective light bulbs \")\n",
        "p = float (input())\n",
        "q = 1-p\n",
        "print(\"Press 1 to find probability of defective light bulb or 2 to find probability of non-defective\")\n",
        "x = int(input())\n",
        "if x == 1:\n",
        "    print(\" In this case X=0 will define failure of being defective and X=1 will define success of being defective\")\n",
        "    success = 1\n",
        "    failure = 0\n",
        "    alpha = pow(p, success)\n",
        "    beta = pow(q, failure)\n",
        "    defective = alpha * beta\n",
        "    print(\"Probability of defective is =\", defective)\n",
        "elif x==2:\n",
        "    print(\" In this case X=1 will define failure of being defective and X=0will define success of being defective\")\n",
        "    success = 0\n",
        "    failure = 1\n",
        "    alpha = pow(p, success)\n",
        "    beta = pow(q, failure)\n",
        "    non_defective=alpha * beta\n",
        "    print(\"Probability of defective is =\", non_defective)\n",
        "\n"
      ],
      "execution_count": 1,
      "outputs": [
        {
          "output_type": "stream",
          "text": [
            "*******Bernoulli Distribution*******\n",
            "Please enter respective probability of defective light bulbs \n",
            "0.2\n",
            "Press 1 to find probability of defective light bulb or 2 to find probability of non-defective\n",
            "2\n",
            " In this case X=1 will define failure of being defective and X=0will define success of being defective\n",
            "Probability of defective is = 0.8\n"
          ],
          "name": "stdout"
        }
      ]
    }
  ]
}